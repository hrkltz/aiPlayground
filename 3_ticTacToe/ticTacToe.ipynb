{
 "cells": [
  {
   "attachments": {},
   "cell_type": "markdown",
   "metadata": {},
   "source": [
    "# Tic Tac Toe\n",
    "- 3^9 = 19683 possible states\n",
    "- many of them are forbidden by the game logic (e.g. all X or all O)\n",
    "\n",
    "## 1. Step: Generate all possible states"
   ]
  },
  {
   "cell_type": "code",
   "execution_count": 69,
   "metadata": {},
   "outputs": [
    {
     "name": "stdout",
     "output_type": "stream",
     "text": [
      "Generated 19683 possible board states.\n",
      "E.g. nr. 4072: ['O', 'O', 'X', '-', 'X', 'O', 'X', 'O', '-']\n"
     ]
    }
   ],
   "source": [
    "symbols = ['-', 'O', 'X']\n",
    "boardArray = Array{Array{Char, 1}, 1}(undef, 3^9)\n",
    "\n",
    "for i in 1:3^9\n",
    "    currentBoardStateVector = Array{Char, 1}(undef, 9)\n",
    "    c = i\n",
    "\n",
    "    for j in 1:9\n",
    "        currentBoardStateVector[j] = symbols[floor(Int, (c%3+1))]\n",
    "        c /= 3\n",
    "    end\n",
    "\n",
    "    boardArray[i] = currentBoardStateVector\n",
    "end\n",
    "\n",
    "println(\"Generated \", length(boardArray), \" possible board states.\")\n",
    "randBoardStateId = rand(1:length(boardArray))\n",
    "println(\"E.g. nr. \", randBoardStateId, \": \", boardArray[randBoardStateId])"
   ]
  },
  {
   "attachments": {},
   "cell_type": "markdown",
   "metadata": {},
   "source": [
    "## 2. Step: Remove all impossible states\n",
    "\n",
    "First remove all states which would mean one player overjumped the other one. Which means there are two more X or O on the field compared to the opponent."
   ]
  },
  {
   "cell_type": "code",
   "execution_count": 105,
   "metadata": {},
   "outputs": [
    {
     "name": "stdout",
     "output_type": "stream",
     "text": [
      "VersionA: \n",
      "> 10730/19683 = 54.514047655337095% are invalid.\n",
      "> E.g. nr. 5201: ['-', 'O', '-', '-', 'X', '-', 'O', 'O', 'O']\n"
     ]
    },
    {
     "data": {
      "text/plain": [
       "8953-element Vector{Vector{Char}}:\n",
       " ['O', '-', '-', '-', '-', '-', '-', '-', '-']\n",
       " ['X', '-', '-', '-', '-', '-', '-', '-', '-']\n",
       " ['-', 'O', '-', '-', '-', '-', '-', '-', '-']\n",
       " ['X', 'O', '-', '-', '-', '-', '-', '-', '-']\n",
       " ['-', 'X', '-', '-', '-', '-', '-', '-', '-']\n",
       " ['O', 'X', '-', '-', '-', '-', '-', '-', '-']\n",
       " ['-', '-', 'O', '-', '-', '-', '-', '-', '-']\n",
       " ['X', '-', 'O', '-', '-', '-', '-', '-', '-']\n",
       " ['X', 'O', 'O', '-', '-', '-', '-', '-', '-']\n",
       " ['-', 'X', 'O', '-', '-', '-', '-', '-', '-']\n",
       " ⋮\n",
       " ['O', '-', 'O', 'O', 'O', 'X', 'X', 'X', 'X']\n",
       " ['-', 'O', 'O', 'O', 'O', 'X', 'X', 'X', 'X']\n",
       " ['O', 'O', 'O', 'O', 'O', 'X', 'X', 'X', 'X']\n",
       " ['X', 'O', 'O', 'O', 'O', 'X', 'X', 'X', 'X']\n",
       " ['O', 'X', 'O', 'O', 'O', 'X', 'X', 'X', 'X']\n",
       " ['O', 'O', 'X', 'O', 'O', 'X', 'X', 'X', 'X']\n",
       " ['O', 'O', 'O', 'X', 'O', 'X', 'X', 'X', 'X']\n",
       " ['O', 'O', 'O', 'O', 'X', 'X', 'X', 'X', 'X']\n",
       " ['-', '-', '-', '-', '-', '-', '-', '-', '-']"
      ]
     },
     "metadata": {},
     "output_type": "display_data"
    }
   ],
   "source": [
    "function versionA(boardArray)\n",
    "    invalidBoardStateIndexArray = Array{Int, 1}(undef, 0)\n",
    "    invalidBoardStateMarkerArray = Array{Bool, 1}(undef, 3^9)\n",
    "    i = 0\n",
    "\n",
    "    for boardState in boardArray\n",
    "        i += 1\n",
    "        countX = 0\n",
    "        countO = 0\n",
    "\n",
    "        for ii in 1:9\n",
    "            if boardState[ii] == 'X'\n",
    "                countX += 1\n",
    "            elseif boardState[ii] == 'O'\n",
    "                countO += 1\n",
    "            end\n",
    "        end\n",
    "\n",
    "        if (countX > countO+1) || (countO > countX+1)\n",
    "            append!(invalidBoardStateIndexArray, i)\n",
    "            invalidBoardStateMarkerArray[i] = true\n",
    "        else\n",
    "            invalidBoardStateMarkerArray[i] = false\n",
    "        end\n",
    "    end\n",
    "\n",
    "    println(\"VersionA: \")\n",
    "    println(\"> \", length(invalidBoardStateIndexArray), \"/\", length(boardArray), \" = \", (length(invalidBoardStateIndexArray)/length(boardArray))*100, \"% are invalid.\")\n",
    "    randIndex = rand(1:length(invalidBoardStateIndexArray))\n",
    "    println(\"> \", \"E.g. nr. \", randIndex, \": \", boardStateArray[invalidBoardStateIndexArray[randIndex]])\n",
    "    return deleteat!(boardArray, invalidBoardStateMarkerArray)\n",
    "end\n",
    "\n",
    "# This version is much slower. One reason could be that it needs to count() twice for one decision.\n",
    "#function versionB(boardArray)\n",
    "#    validBoardArray = findall(boardState->(abs(count(i->(i=='X'),boardState) - count(i->(i=='O'),boardState)) < 2), boardArray)\n",
    "#    println(\"VersionB: \")\n",
    "#    println(\"> \", length(validBoardArray), \"/\", length(boardArray), \" = \", (length(validBoardArray)/length(boardArray))*100, \"% are valid.\")\n",
    "#    return validBoardArray\n",
    "#end\n",
    "\n",
    "validBoardArray = versionA(copy(boardArray))\n",
    "#@time versionB(copy(boardArray))\n"
   ]
  },
  {
   "attachments": {},
   "cell_type": "markdown",
   "metadata": {},
   "source": [
    "# 3. Step: Classify remaining board states\n",
    "\n",
    "All remaining board states should be classified in one of the following four classes:\n",
    "\n",
    "1. notFinished\n",
    "2. winX\n",
    "3. winO\n",
    "4. pad"
   ]
  },
  {
   "cell_type": "code",
   "execution_count": 127,
   "metadata": {},
   "outputs": [
    {
     "name": "stdout",
     "output_type": "stream",
     "text": [
      "length(winX) + length(winO) + -(length(validBoardArray)) = -6377\n"
     ]
    },
    {
     "data": {
      "text/plain": [
       "-6377"
      ]
     },
     "metadata": {},
     "output_type": "display_data"
    }
   ],
   "source": [
    "# Winnings in a row\n",
    "winX = filter(i->('X'==i[1]==i[2]==i[3]), validBoardArray)\n",
    "append!(winX, filter(i->('X'==i[4]==i[5]==i[6]), validBoardArray))\n",
    "append!(winX, filter(i->('X'==i[7]==i[8]==i[9]), validBoardArray))\n",
    "\n",
    "# Winnings in a column\n",
    "append!(winX, filter(i->('X'==i[1]==i[4]==i[7]), validBoardArray))\n",
    "append!(winX, filter(i->('X'==i[2]==i[5]==i[8]), validBoardArray))\n",
    "append!(winX, filter(i->('X'==i[3]==i[6]==i[9]), validBoardArray))\n",
    "\n",
    "# Winnings in a diagonal\n",
    "append!(winX, filter(i->('X'==i[1]==i[5]==i[9]), validBoardArray))\n",
    "append!(winX, filter(i->('X'==i[3]==i[5]==i[7]), validBoardArray))\n",
    "\n",
    "# Winnings in a row\n",
    "winO = filter(i->('O'==i[1]==i[2]==i[3]), validBoardArray)\n",
    "append!(winO, filter(i->('O'==i[4]==i[5]==i[6]), validBoardArray))\n",
    "append!(winO, filter(i->('O'==i[7]==i[8]==i[9]), validBoardArray))\n",
    "\n",
    "# Winnings in a column\n",
    "append!(winO, filter(i->('O'==i[1]==i[4]==i[7]), validBoardArray))\n",
    "append!(winO, filter(i->('O'==i[2]==i[5]==i[8]), validBoardArray))\n",
    "append!(winO, filter(i->('O'==i[3]==i[6]==i[9]), validBoardArray))\n",
    "\n",
    "# Winnings in a diagonal\n",
    "append!(winO, filter(i->('O'==i[1]==i[5]==i[9]), validBoardArray))\n",
    "append!(winO, filter(i->('O'==i[3]==i[5]==i[7]), validBoardArray))\n",
    "\n",
    "@show length(winX)\n",
    "@show length(winO)\n"
   ]
  },
  {
   "attachments": {},
   "cell_type": "markdown",
   "metadata": {},
   "source": [
    "# 4. Step: Extract some test data\n",
    "\n",
    "To validate the training we need some data which aren ot used for training. For this simply pick randomly X% of each class and put them out of the training data."
   ]
  }
 ],
 "metadata": {
  "kernelspec": {
   "display_name": "Julia 1.8.5",
   "language": "julia",
   "name": "julia-1.8"
  },
  "language_info": {
   "file_extension": ".jl",
   "mimetype": "application/julia",
   "name": "julia",
   "version": "1.8.5"
  },
  "orig_nbformat": 4
 },
 "nbformat": 4,
 "nbformat_minor": 2
}

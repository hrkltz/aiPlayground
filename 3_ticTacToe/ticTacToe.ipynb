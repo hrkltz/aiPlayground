{
 "cells": [
  {
   "attachments": {},
   "cell_type": "markdown",
   "metadata": {},
   "source": [
    "# Tic Tac Toe\n",
    "- 3^9 = 19683 possible states\n",
    "- many of them are forbidden by the game logic (e.g. all X or all O)\n",
    "\n",
    "## 1. Step: Generate all possible states"
   ]
  },
  {
   "cell_type": "code",
   "execution_count": 1,
   "metadata": {},
   "outputs": [
    {
     "name": "stdout",
     "output_type": "stream",
     "text": [
      "Generated 19683 possible board states.\n",
      "E.g. the board state nr 8137 is: "
     ]
    },
    {
     "name": "stdout",
     "output_type": "stream",
     "text": [
      "Any"
     ]
    },
    {
     "name": "stdout",
     "output_type": "stream",
     "text": [
      "[\"O\", \"-\", \"O\", \"O\", \"O\", \"-\", \"X\", \"-\", \"O\"]\n"
     ]
    }
   ],
   "source": [
    "v = [\"-\", \"O\", \"X\"]\n",
    "boardStateArray = Array{Array{Any, 1}, 1}(undef, 3^9)\n",
    "\n",
    "for i in 1:3^9\n",
    "    currentBoardStateVector = Array{Any, 1}(undef, 9)\n",
    "    c = i\n",
    "    for j in 1:9\n",
    "        currentBoardStateVector[j] = v[floor(Int, (c%3+1))]\n",
    "        c /= 3\n",
    "    end\n",
    "\n",
    "    boardStateArray[i] = currentBoardStateVector\n",
    "end\n",
    "\n",
    "println(\"Generated \", length(boardStateArray), \" possible board states.\")\n",
    "randBoardStateId = rand(1:length(boardStateArray))\n",
    "println(\"E.g. the board state nr \", randBoardStateId, \" is: \", boardStateArray[randBoardStateId])"
   ]
  },
  {
   "attachments": {},
   "cell_type": "markdown",
   "metadata": {},
   "source": [
    "## 2. Step: Remove all impossible states\n",
    "\n",
    "First remove all states which would mean one player overjumped the other one. Which means there are two more X or O on the field compared to the opponent."
   ]
  },
  {
   "cell_type": "code",
   "execution_count": 3,
   "metadata": {},
   "outputs": [
    {
     "name": "stdout",
     "output_type": "stream",
     "text": [
      "All fine no invalid board states are left!\n"
     ]
    }
   ],
   "source": [
    "i = 0\n",
    "invalidBoardStateIndexArray = Array{Int, 1}(undef, 0)\n",
    "invalidBoardStateMarkerArray = Array{Bool, 1}(undef, 3^9)\n",
    "\n",
    "for boardState in boardStateArray\n",
    "    i += 1\n",
    "    countX = 0\n",
    "    countO = 0\n",
    "\n",
    "    for i in 1:9\n",
    "        if boardState[i] == \"X\"\n",
    "            countX += 1\n",
    "        elseif boardState[i] == \"O\"\n",
    "            countO += 1\n",
    "        end\n",
    "    end\n",
    "\n",
    "    if (countX > countO+1) || (countO > countX+1)\n",
    "        # TODO: Mark invalid ones with a second array.\n",
    "        # count += 1\n",
    "        append!(invalidBoardStateIndexArray, i)\n",
    "        invalidBoardStateMarkerArray[i] = true\n",
    "    else\n",
    "        invalidBoardStateMarkerArray[i] = false\n",
    "    end\n",
    "end\n",
    "\n",
    "if (length(invalidBoardStateIndexArray) == 0)\n",
    "    println(\"All fine no invalid board states are left!\")\n",
    "else\n",
    "    println(length(invalidBoardStateIndexArray), \" of \", length(boardStateArray), \" are invalid (\", (length(invalidBoardStateIndexArray)/length(boardStateArray))*100, \"%)\")\n",
    "    randIndex = rand(1:length(invalidBoardStateIndexArray))\n",
    "    println(\"One invalid example: \", boardStateArray[invalidBoardStateIndexArray[randIndex]])\n",
    "    deleteat!(boardStateArray, invalidBoardStateMarkerArray)\n",
    "end\n"
   ]
  }
 ],
 "metadata": {
  "kernelspec": {
   "display_name": "Julia 1.8.5",
   "language": "julia",
   "name": "julia-1.8"
  },
  "language_info": {
   "file_extension": ".jl",
   "mimetype": "application/julia",
   "name": "julia",
   "version": "1.8.5"
  },
  "orig_nbformat": 4
 },
 "nbformat": 4,
 "nbformat_minor": 2
}

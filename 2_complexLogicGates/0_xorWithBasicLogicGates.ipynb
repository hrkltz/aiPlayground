{
 "cells": [
  {
   "attachments": {},
   "cell_type": "markdown",
   "metadata": {},
   "source": [
    "# XOR with basic logic gates\n",
    "\n",
    "## Implemenation"
   ]
  },
  {
   "cell_type": "code",
   "execution_count": 7,
   "metadata": {},
   "outputs": [
    {
     "name": "stdout",
     "output_type": "stream",
     "text": [
      "xor(1, 1) = 0\n"
     ]
    },
    {
     "data": {
      "text/plain": [
       "0"
      ]
     },
     "metadata": {},
     "output_type": "display_data"
    }
   ],
   "source": [
    "include(\"./0_xorWithBasicLogicGates/xor.jl\")\n",
    "\n",
    "@show xor(1,1)"
   ]
  },
  {
   "attachments": {},
   "cell_type": "markdown",
   "metadata": {},
   "source": [
    "## Test"
   ]
  },
  {
   "cell_type": "code",
   "execution_count": 8,
   "metadata": {},
   "outputs": [
    {
     "ename": "LoadError",
     "evalue": "LoadError: SystemError: opening file \"c:\\\\Users\\\\olive\\\\Documents\\\\GitHub\\\\artificialNeuronalNetwork\\\\2_complexLogicGates\\\\1_basicLogicGates\\\\and.jl\": No such file or directory\nin expression starting at c:\\Users\\olive\\Documents\\GitHub\\artificialNeuronalNetwork\\2_complexLogicGates\\0_xorWithBasicLogicGates\\xor.jl:1\nin expression starting at c:\\Users\\olive\\Documents\\GitHub\\artificialNeuronalNetwork\\2_complexLogicGates\\0_xorWithBasicLogicGates\\xor.test.jl:2",
     "output_type": "error",
     "traceback": [
      "LoadError: SystemError: opening file \"c:\\\\Users\\\\olive\\\\Documents\\\\GitHub\\\\artificialNeuronalNetwork\\\\2_complexLogicGates\\\\1_basicLogicGates\\\\and.jl\": No such file or directory\n",
      "in expression starting at c:\\Users\\olive\\Documents\\GitHub\\artificialNeuronalNetwork\\2_complexLogicGates\\0_xorWithBasicLogicGates\\xor.jl:1\n",
      "in expression starting at c:\\Users\\olive\\Documents\\GitHub\\artificialNeuronalNetwork\\2_complexLogicGates\\0_xorWithBasicLogicGates\\xor.test.jl:2\n",
      "\n",
      "Stacktrace:\n",
      "  [1] systemerror(p::String, errno::Int32; extrainfo::Nothing)\n",
      "    @ Base .\\error.jl:176\n",
      "  [2] #systemerror#80\n",
      "    @ .\\error.jl:175 [inlined]\n",
      "  [3] systemerror\n",
      "    @ .\\error.jl:175 [inlined]\n",
      "  [4] open(fname::String; lock::Bool, read::Nothing, write::Nothing, create::Nothing, truncate::Nothing, append::Nothing)\n",
      "    @ Base .\\iostream.jl:293\n",
      "  [5] open\n",
      "    @ .\\iostream.jl:275 [inlined]\n",
      "  [6] open(f::Base.var\"#387#388\"{String}, args::String; kwargs::Base.Pairs{Symbol, Union{}, Tuple{}, NamedTuple{(), Tuple{}}})\n",
      "    @ Base .\\io.jl:382\n",
      "  [7] open\n",
      "    @ .\\io.jl:381 [inlined]\n",
      "  [8] read\n",
      "    @ .\\io.jl:462 [inlined]\n",
      "  [9] _include(mapexpr::Function, mod::Module, _path::String)\n",
      "    @ Base .\\loading.jl:1484\n",
      " [10] include(fname::String)\n",
      "    @ Base.MainInclude .\\client.jl:476\n",
      " [11] top-level scope\n",
      "    @ c:\\Users\\olive\\Documents\\GitHub\\artificialNeuronalNetwork\\2_complexLogicGates\\0_xorWithBasicLogicGates\\xor.jl:1"
     ]
    }
   ],
   "source": [
    "include(\"./0_xorWithBasicLogicGates/xor.test.jl\")"
   ]
  }
 ],
 "metadata": {
  "kernelspec": {
   "display_name": "Julia 1.8.5",
   "language": "julia",
   "name": "julia-1.8"
  },
  "language_info": {
   "file_extension": ".jl",
   "mimetype": "application/julia",
   "name": "julia",
   "version": "1.8.5"
  },
  "orig_nbformat": 4
 },
 "nbformat": 4,
 "nbformat_minor": 2
}

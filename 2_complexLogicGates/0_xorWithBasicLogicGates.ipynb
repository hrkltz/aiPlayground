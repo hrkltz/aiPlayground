{
 "cells": [
  {
   "attachments": {},
   "cell_type": "markdown",
   "metadata": {},
   "source": [
    "# XOR with basic logic gates\n",
    "\n",
    "## Implemenation\n",
    "\n",
    "An XOR logic gate can be build out of three basic logic gates as the following structure shows:\n",
    "```\n",
    "i0\n",
    "     AND()\n",
    "             NOR()\n",
    "i1\n",
    "     NOR()\n",
    "```\n",
    "\n",
    "The next code blocks executes this version of the XOR logic gate."
   ]
  },
  {
   "cell_type": "code",
   "execution_count": null,
   "metadata": {},
   "outputs": [],
   "source": [
    "include(\"./0_xorWithBasicLogicGates/xor.jl\")\n",
    "\n",
    "@show xor(1,1)"
   ]
  },
  {
   "attachments": {},
   "cell_type": "markdown",
   "metadata": {},
   "source": [
    "The following code block will execute the unit tests to verify the output of the prevously generated XOR logic gate.\n",
    "The expected logic is:\n",
    "| i0 | i1 | o |\n",
    "|---:|---:|--:|\n",
    "|   0|   0|  0|\n",
    "|   0|   1|  1|\n",
    "|   1|   0|  1|\n",
    "|   1|   1|  0|"
   ]
  },
  {
   "cell_type": "code",
   "execution_count": null,
   "metadata": {},
   "outputs": [],
   "source": [
    "include(\"./0_xorWithBasicLogicGates/xor.test.jl\")"
   ]
  }
 ],
 "metadata": {
  "kernelspec": {
   "display_name": "Julia 1.8.5",
   "language": "julia",
   "name": "julia-1.8"
  },
  "language_info": {
   "file_extension": ".jl",
   "mimetype": "application/julia",
   "name": "julia",
   "version": "1.8.5"
  },
  "orig_nbformat": 4
 },
 "nbformat": 4,
 "nbformat_minor": 2
}
